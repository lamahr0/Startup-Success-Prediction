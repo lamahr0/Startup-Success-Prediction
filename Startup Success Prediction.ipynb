{
 "cells": [
  {
   "cell_type": "code",
   "execution_count": 1,
   "id": "b25aa656",
   "metadata": {},
   "outputs": [],
   "source": [
    "## imports\n",
    "%matplotlib inline\n",
    "import pandas as pd\n",
    "from matplotlib import pyplot as plt\n",
    "import numpy as np\n",
    "import seaborn as sns\n",
    "import datetime as dt\n",
    "import plotly.express as px\n",
    "from sklearn.preprocessing import LabelEncoder\n",
    "from imblearn.over_sampling import SMOTE\n",
    "from collections import Counter\n",
    "from matplotlib import pyplot\n",
    "from sklearn.naive_bayes import GaussianNB\n",
    "from sklearn.model_selection import train_test_split\n",
    "\n",
    "# get data\n",
    "startup = pd.read_csv(\"investments_VC.csv\")\n",
    "\n",
    "#checking null value\n",
    "#startup.isnull().sum(axis = 0)\n"
   ]
  },
  {
   "cell_type": "markdown",
   "id": "8c570504",
   "metadata": {},
   "source": [
    "# 1-Cleaning the data"
   ]
  },
  {
   "cell_type": "code",
   "execution_count": 2,
   "id": "36adb490",
   "metadata": {
    "scrolled": true
   },
   "outputs": [],
   "source": [
    "## to remove spaces in columns names\n",
    "startup.columns = startup.columns.str.strip()\n",
    "\n",
    "#removing deplicates\n",
    "startup = startup.drop_duplicates()\n",
    "\n",
    "#Drop the rows where all elements are missing.\n",
    "startup.dropna(how='all')\n",
    "\n",
    "## permalink and homepage_url irrelveant columns \n",
    "## market can replace category list column\n",
    "#drop founded month , year , quarter since founded_at column contains the whole data\n",
    "startup.drop(['permalink', 'homepage_url' , 'category_list' , 'founded_month','founded_quarter','founded_year'],\n",
    "             axis='columns',inplace=True) \n",
    "\n",
    "#remove duplicates \n",
    "startup = startup.drop_duplicates()\n",
    "\n",
    "#there is one last row with null value in most column so it will be dropped\n",
    "startup = startup[pd.notnull(startup['seed'])]\n",
    "\n",
    "#drop the row with null name as it has NaN in most columns\n",
    "startup = startup[pd.notnull(startup['name'])]\n",
    "\n",
    "# convert to float and remove \"-\" value from the column and replace the \",\" to be able to convert \n",
    "startup['funding_total_usd'] = startup['funding_total_usd'].apply(lambda x: '0' if x == ' -   ' else x)\n",
    "startup['funding_total_usd'] = startup['funding_total_usd'].str.replace(',', '').astype(float)\n",
    "\n",
    "#convert founded_at , first funding at , last funding at to datetime datatype\n",
    "startup['founded_at'] = pd.to_datetime(startup['founded_at'], format='%Y%m%d', errors='coerce')\n",
    "startup['first_funding_at'] = pd.to_datetime(startup['first_funding_at'], format='%Y%m%d', errors='coerce')\n",
    "startup['last_funding_at'] = pd.to_datetime(startup['last_funding_at'], format='%Y%m%d', errors='coerce')\n",
    "\n",
    "#drop rows with status unknown \n",
    "startup = startup[pd.notnull(startup['status'])]\n",
    "\n",
    "#replacing NaT with 0 \n",
    "startup['founded_at'].replace({pd.NaT: 0}, inplace=True)\n",
    "startup['first_funding_at'].replace({pd.NaT: 0}, inplace=True)\n",
    "startup['last_funding_at'].replace({pd.NaT: 0}, inplace=True)\n",
    "\n",
    "\n"
   ]
  },
  {
   "cell_type": "markdown",
   "id": "69b9d384",
   "metadata": {},
   "source": [
    "# 2-EDA"
   ]
  },
  {
   "cell_type": "code",
   "execution_count": null,
   "id": "c7598328",
   "metadata": {},
   "outputs": [],
   "source": [
    "\n",
    "#calculate top 10 markets\n",
    "market_count = startup.groupby(['market']).size().to_frame().sort_values([0], ascending = False).head(10).reset_index()\n",
    "market_count = market_count.rename(columns={0:'count'})\n",
    "\n",
    "#visualize the top 10 marktets\n",
    "market_hist = px.histogram(market_count, x=\"market\", y=\"count\" )\n",
    "market_hist.show(\"png\")\n",
    "\n",
    "##*******************************************************************************\n",
    "\n",
    "\n",
    "#calculate the sum of each round investment \n",
    "sum_of_rounds = (startup[['round_A','round_B' ,'round_C', 'round_D','round_E','round_F' ,'round_G', 'round_H']].sum())\n",
    "#create new df to hold the sum and the labels\n",
    "rounds = pd.DataFrame(data=sum_of_rounds)\n",
    "rounds['Round']= ['round_A','round_B' ,'round_C', 'round_D','round_E','round_F' ,'round_G', 'round_H']\n",
    "rounds.columns = ['Sum','Round']\n",
    "\n",
    "#visualize the round investment\n",
    "fig = px.histogram(rounds , y = 'Sum' , x = 'Round')\n",
    "fig.show(\"png\")\n",
    "\n",
    "\n"
   ]
  },
  {
   "cell_type": "code",
   "execution_count": null,
   "id": "6d9e4f17",
   "metadata": {},
   "outputs": [],
   "source": [
    "##*********************************************************************************\n",
    "\n",
    "#Markets with most acquired startups\n",
    "Acquired_market = startup.loc[startup['status'] == 'acquired']\n",
    "Acquired_market_count = Acquired_market.groupby(['market']).size().to_frame().sort_values([0], ascending = False).head(10).reset_index()\n",
    "Acquired_market_count  = Acquired_market_count.rename(columns={0:'count'})\n",
    "#visualize\n",
    "Acquired_market_hist = px.histogram(Acquired_market_count, x=\"market\", y=\"count\" )\n",
    "Acquired_market_hist.show(\"png\")\n",
    "\n",
    "#Markets with least acquired startups\n",
    "least_acquired_market_count = Acquired_market.groupby(['market']).size().to_frame().sort_values([0], ascending = False).tail(10).reset_index()\n",
    "least_acquired_market_count  = least_acquired_market_count.rename(columns={0:'count'})\n",
    "#visualize\n",
    "least_acquired_market_hist = px.histogram(least_acquired_market_count, x=\"market\", y=\"count\" )\n",
    "least_acquired_market_hist.show(\"png\")"
   ]
  },
  {
   "cell_type": "code",
   "execution_count": null,
   "id": "bdd6fdc0",
   "metadata": {},
   "outputs": [],
   "source": [
    "##*********************************************************************************\n",
    "\n",
    "#Markets with most closed startups\n",
    "Closed_market = startup.loc[startup['status'] == 'closed']\n",
    "Closed_market_count = Closed_market.groupby(['market']).size().to_frame().sort_values([0], ascending = False).head(10).reset_index()\n",
    "Closed_market_count  = Closed_market_count.rename(columns={0:'count'})\n",
    "#visualize\n",
    "Closed_market_hist = px.histogram(Closed_market_count, x=\"market\", y=\"count\" )\n",
    "Closed_market_hist.show(\"png\")\n",
    "\n",
    "#Markets with least closed startups\n",
    "least_Closed_market_count = Closed_market.groupby(['market']).size().to_frame().sort_values([0], ascending = False).tail(10).reset_index()\n",
    "least_Closed_market_count  = least_Closed_market_count.rename(columns={0:'count'})\n",
    "#visualize\n",
    "least_Closed_market_hist = px.histogram(least_Closed_market_count, x=\"market\", y=\"count\" )\n",
    "least_Closed_market_hist.show(\"png\")"
   ]
  },
  {
   "cell_type": "code",
   "execution_count": null,
   "id": "335f3bd8",
   "metadata": {},
   "outputs": [],
   "source": [
    "#Markets with most operating startups\n",
    "operating_market = startup.loc[startup['status'] == 'operating']\n",
    "operating_market_count = operating_market.groupby(['market']).size().to_frame().sort_values([0], ascending = False).head(10).reset_index()\n",
    "operating_market_count  = operating_market_count.rename(columns={0:'count'})\n",
    "\n",
    "operating_market_count\n",
    "#visualize\n",
    "operating_market_hist = px.histogram(operating_market_count, x=\"market\", y=\"count\" )\n",
    "operating_market_hist.show(\"png\")\n",
    "\n",
    "#Markets with least operating startups\n",
    "least_operating_market_count = operating_market.groupby(['market']).size().to_frame().sort_values([0], ascending = False).tail(10).reset_index()\n",
    "least_operating_market_count  = least_operating_market_count.rename(columns={0:'count'})\n",
    "#visualize\n",
    "least_operating_market_hist = px.histogram(least_operating_market_count, x=\"market\", y=\"count\" )\n",
    "least_operating_market_hist.show(\"png\")"
   ]
  },
  {
   "cell_type": "markdown",
   "id": "76f87ac3",
   "metadata": {},
   "source": [
    "# 3- Dealing with imbalanced classes"
   ]
  },
  {
   "cell_type": "code",
   "execution_count": 3,
   "id": "54f4439b",
   "metadata": {},
   "outputs": [],
   "source": [
    "\n",
    "#encoding all categorical columns\n",
    "for column in startup[['name' , 'market' , 'country_code' , 'state_code' , 'region' , 'city' , 'status']]:\n",
    " startup[column] = LabelEncoder().fit_transform(startup[column])\n",
    "\n",
    "#Encoding for status must be clear which value is which \n"
   ]
  },
  {
   "cell_type": "code",
   "execution_count": 4,
   "id": "5eafd303",
   "metadata": {},
   "outputs": [
    {
     "data": {
      "text/plain": [
       "2    41829\n",
       "0     3692\n",
       "1     2602\n",
       "Name: status, dtype: int64"
      ]
     },
     "execution_count": 4,
     "metadata": {},
     "output_type": "execute_result"
    }
   ],
   "source": [
    "startup['status'].value_counts()"
   ]
  },
  {
   "cell_type": "code",
   "execution_count": 5,
   "id": "21645057",
   "metadata": {},
   "outputs": [],
   "source": [
    "# split y and x \n",
    "startup_data = startup.values\n",
    "X, y = startup_data[:, :-1], startup_data[:, -1]\n",
    "y=y.astype('int')\n",
    "# transform the dataset\n",
    "oversample = SMOTE()\n",
    "X, y = oversample.fit_resample(X, y)\n"
   ]
  },
  {
   "cell_type": "code",
   "execution_count": 6,
   "id": "2beb2da1",
   "metadata": {},
   "outputs": [
    {
     "name": "stdout",
     "output_type": "stream",
     "text": [
      "Class=0, n=41829 (33.333%)\n",
      "Class=2, n=41829 (33.333%)\n",
      "Class=1, n=41829 (33.333%)\n"
     ]
    },
    {
     "data": {
      "image/png": "[encoded data removed]",
      "text/plain": [
       "<Figure size 432x288 with 1 Axes>"
      ]
     },
     "metadata": {
      "needs_background": "light"
     },
     "output_type": "display_data"
    }
   ],
   "source": [
    "## Count of each class datapoints \n",
    "counter = Counter(y)\n",
    "for k,v in counter.items():\n",
    "\tper = v / len(y) * 100\n",
    "\tprint('Class=%d, n=%d (%.3f%%)' % (k, v, per))\n",
    "# plot the distribution\n",
    "pyplot.bar(counter.keys(), counter.values())\n",
    "pyplot.show()"
   ]
  },
  {
   "cell_type": "markdown",
   "id": "c8d165b2",
   "metadata": {},
   "source": [
    "# 4- Classification "
   ]
  },
  {
   "cell_type": "code",
   "execution_count": 11,
   "id": "d6aec5af",
   "metadata": {},
   "outputs": [
    {
     "name": "stdout",
     "output_type": "stream",
     "text": [
      "Accuracy: 0.832 (0.006)\n"
     ]
    }
   ],
   "source": [
    "from sklearn.ensemble import RandomForestClassifier\n",
    "from sklearn.metrics import accuracy_score\n",
    "from sklearn.model_selection import RepeatedStratifiedKFold\n",
    "from sklearn.model_selection import cross_val_score\n",
    "from numpy import mean\n",
    "from numpy import std\n",
    "X_train, X_test, y_train, y_test = train_test_split(X, y, test_size=0.3,random_state=109)\n",
    "rf = RandomForestClassifier()\n",
    "y_pred = rf.fit(X_train, y_train)\n",
    "classes = [0, 1 , 2]\n",
    "\n",
    "cv = RepeatedStratifiedKFold(n_splits=10, n_repeats=3, random_state=1)\n",
    "scores = cross_val_score(rf, X_test, y_test, scoring='accuracy', cv=cv, n_jobs=-1, error_score='raise')\n",
    "\n",
    "print('Accuracy: %.3f (%.3f)' % (mean(scores), std(scores)))"
   ]
  },
  {
   "cell_type": "code",
   "execution_count": null,
   "id": "9e109148",
   "metadata": {},
   "outputs": [],
   "source": [
    "from yellowbrick.classifier import ClassificationReport\n",
    "visualizer = ClassificationReport(rf, classes=classes, support=True)\n",
    "visualizer.fit(X_train, y_train)        # Fit the visualizer and the model\n",
    "visualizer.score(X_test, y_test)        # Evaluate the model on the test data\n",
    "visualizer.show()"
   ]
  },
  {
   "cell_type": "code",
   "execution_count": 14,
   "id": "2ee541ef",
   "metadata": {},
   "outputs": [
    {
     "ename": "AttributeError",
     "evalue": "type object 'ConfusionMatrixDisplay' has no attribute 'from_estimator'",
     "output_type": "error",
     "traceback": [
      "\u001b[1;31m---------------------------------------------------------------------------\u001b[0m",
      "\u001b[1;31mAttributeError\u001b[0m                            Traceback (most recent call last)",
      "\u001b[1;32m<ipython-input-14-60a34227cb60>\u001b[0m in \u001b[0;36m<module>\u001b[1;34m\u001b[0m\n\u001b[0;32m      4\u001b[0m                   (\"Normalized confusion matrix\", 'true')]\n\u001b[0;32m      5\u001b[0m \u001b[1;32mfor\u001b[0m \u001b[0mtitle\u001b[0m\u001b[1;33m,\u001b[0m \u001b[0mnormalize\u001b[0m \u001b[1;32min\u001b[0m \u001b[0mtitles_options\u001b[0m\u001b[1;33m:\u001b[0m\u001b[1;33m\u001b[0m\u001b[1;33m\u001b[0m\u001b[0m\n\u001b[1;32m----> 6\u001b[1;33m     disp = ConfusionMatrixDisplay.from_estimator(\n\u001b[0m\u001b[0;32m      7\u001b[0m         \u001b[0mrf\u001b[0m\u001b[1;33m,\u001b[0m \u001b[0mX_test\u001b[0m\u001b[1;33m,\u001b[0m \u001b[0my_test\u001b[0m\u001b[1;33m,\u001b[0m \u001b[0mdisplay_labels\u001b[0m\u001b[1;33m=\u001b[0m\u001b[0mclass_names\u001b[0m\u001b[1;33m,\u001b[0m\u001b[1;33m\u001b[0m\u001b[1;33m\u001b[0m\u001b[0m\n\u001b[0;32m      8\u001b[0m         cmap=plt.cm.Blues, normalize=normalize)\n",
      "\u001b[1;31mAttributeError\u001b[0m: type object 'ConfusionMatrixDisplay' has no attribute 'from_estimator'"
     ]
    }
   ],
   "source": [
    "from sklearn.metrics import confusion_matrix\n",
    "cm = confusion_matrix(y_true, y_pred, sample_weight=sample_weight,\n",
    "                          labels=labels, normalize=normalize)"
   ]
  },
  {
   "cell_type": "code",
   "execution_count": null,
   "id": "b40ee07e",
   "metadata": {},
   "outputs": [],
   "source": []
  }
 ],
 "metadata": {
  "kernelspec": {
   "display_name": "Python 3",
   "language": "python",
   "name": "python3"
  },
  "language_info": {
   "codemirror_mode": {
    "name": "ipython",
    "version": 3
   },
   "file_extension": ".py",
   "mimetype": "text/x-python",
   "name": "python",
   "nbconvert_exporter": "python",
   "pygments_lexer": "ipython3",
   "version": "3.8.8"
  }
 },
 "nbformat": 4,
 "nbformat_minor": 5
}
