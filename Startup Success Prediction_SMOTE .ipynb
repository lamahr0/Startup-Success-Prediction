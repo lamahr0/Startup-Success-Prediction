{
 "cells": [
  {
   "cell_type": "code",
   "execution_count": 1,
   "id": "b25aa656",
   "metadata": {},
   "outputs": [
    {
     "data": {
      "text/plain": [
       "permalink                   0\n",
       "name                        1\n",
       "homepage_url             3449\n",
       "category_list            3961\n",
       " market                  3968\n",
       " funding_total_usd          0\n",
       "country_code             5273\n",
       "state_code              19277\n",
       "region                   5273\n",
       "city                     6116\n",
       "funding_rounds              0\n",
       "founded_at              10884\n",
       "founded_month           10956\n",
       "founded_quarter         10956\n",
       "founded_year            10956\n",
       "first_funding_at            0\n",
       "last_funding_at             0\n",
       "seed                        0\n",
       "venture                     0\n",
       "equity_crowdfunding         0\n",
       "undisclosed                 0\n",
       "convertible_note            0\n",
       "debt_financing              0\n",
       "angel                       0\n",
       "grant                       0\n",
       "private_equity              0\n",
       "post_ipo_equity             0\n",
       "post_ipo_debt               0\n",
       "secondary_market            0\n",
       "product_crowdfunding        0\n",
       "round_A                     0\n",
       "round_B                     0\n",
       "round_C                     0\n",
       "round_D                     0\n",
       "round_E                     0\n",
       "round_F                     0\n",
       "round_G                     0\n",
       "round_H                     0\n",
       "status                   1314\n",
       "dtype: int64"
      ]
     },
     "execution_count": 1,
     "metadata": {},
     "output_type": "execute_result"
    }
   ],
   "source": [
    "## imports\n",
    "%matplotlib inline\n",
    "import pandas as pd\n",
    "from matplotlib import pyplot as plt\n",
    "import numpy as np\n",
    "import seaborn as sns\n",
    "import datetime as dt\n",
    "from sklearn.preprocessing import LabelEncoder\n",
    "from imblearn.over_sampling import SMOTE\n",
    "from collections import Counter\n",
    "from matplotlib import pyplot\n",
    "from sklearn.model_selection import train_test_split\n",
    "from sklearn.metrics import plot_confusion_matrix\n",
    "from sklearn.ensemble import RandomForestClassifier\n",
    "from sklearn.metrics import accuracy_score\n",
    "from sklearn.model_selection import RepeatedStratifiedKFold\n",
    "from sklearn.model_selection import cross_val_score\n",
    "from numpy import mean\n",
    "from numpy import std\n",
    "import eli5\n",
    "from eli5.sklearn import PermutationImportance\n",
    "from sklearn.preprocessing import StandardScaler\n",
    "from sklearn.linear_model import LogisticRegression\n",
    "from yellowbrick.classifier import ClassificationReport\n",
    "\n",
    "\n",
    "# get data\n",
    "startup = pd.read_csv(\"investments_VC.csv\")\n",
    "\n",
    "#checking null value\n",
    "startup.isnull().sum(axis = 0)\n"
   ]
  },
  {
   "cell_type": "markdown",
   "id": "8c570504",
   "metadata": {},
   "source": [
    "# 1-Cleaning the data"
   ]
  },
  {
   "cell_type": "markdown",
   "id": "11837743",
   "metadata": {},
   "source": [
    "Cleaning the data includes:<br>\n",
    "1-Removing duplicates<br>\n",
    "2-Replacing null values <br>\n",
    "3-converting datatypes"
   ]
  },
  {
   "cell_type": "code",
   "execution_count": 2,
   "id": "36adb490",
   "metadata": {
    "scrolled": true
   },
   "outputs": [],
   "source": [
    "## to remove spaces in columns names\n",
    "startup.columns = startup.columns.str.strip()\n",
    "\n",
    "#removing deplicates\n",
    "startup = startup.drop_duplicates()\n",
    "\n",
    "#Drop the rows where all elements are missing.\n",
    "startup.dropna(how='all')\n",
    "\n",
    "#there is one last row with null value in most columns so it will be dropped\n",
    "startup = startup[pd.notnull(startup['seed'])]\n",
    "\n",
    "\n",
    "#drop the row with null name as it has NaN in most columns\n",
    "startup = startup[pd.notnull(startup['name'])]\n",
    "\n",
    "# convert to float and remove \"-\" value from the column and replace the \",\" to be able to convert \n",
    "startup['funding_total_usd'] = startup['funding_total_usd'].apply(lambda x: '0' if x == ' -   ' else x)\n",
    "startup['funding_total_usd'] = startup['funding_total_usd'].str.replace(',', '').astype(float)\n",
    "\n",
    "#convert founded_at , first funding at , last funding at to datetime datatype\n",
    "startup['founded_at'] = pd.to_datetime(startup['founded_at'], format='%m/%d/%Y', errors='coerce')\n",
    "startup['first_funding_at'] = pd.to_datetime(startup['first_funding_at'], format='%m/%d/%Y', errors='coerce')\n",
    "startup['last_funding_at'] = pd.to_datetime(startup['last_funding_at'], format='%m/%d/%Y', errors='coerce')\n",
    "\n",
    "#drop rows with status unknown as it will not help in the classifcation problem\n",
    "startup = startup[pd.notnull(startup['status'])]\n",
    "\n",
    "\n",
    "#filling the market and country code missing values with 'missing'\n",
    "startup['market'] = startup['market'].fillna('missing')\n",
    "startup['country_code'] = startup['country_code'].fillna('missing')\n",
    "#filling the founded_year NaN with 0\n",
    "startup['founded_year'] = startup['founded_year'].fillna(0)\n"
   ]
  },
  {
   "cell_type": "markdown",
   "id": "36686ff3",
   "metadata": {},
   "source": [
    "# EDA "
   ]
  },
  {
   "cell_type": "markdown",
   "id": "0920214a",
   "metadata": {},
   "source": [
    "### Visualizing Top 10 markets "
   ]
  },
  {
   "cell_type": "code",
   "execution_count": null,
   "id": "aeaf5b54",
   "metadata": {},
   "outputs": [],
   "source": [
    "\n",
    "#setting the plot size \n",
    "sns.set(rc = {'figure.figsize':(13,6)})\n",
    "market_plot = sns.countplot(x='market' , palette=\"mako\" , data= startup ,order=pd.value_counts(startup['market']).iloc[:10].index)\n",
    "market_plot.tick_params(axis='x', rotation=90)\n",
    "market_plot.set_title('Top 10 startups markets ')\n",
    "\n"
   ]
  },
  {
   "cell_type": "markdown",
   "id": "b577044c",
   "metadata": {},
   "source": [
    "### Visualizing Top 10 markets with acquired startups"
   ]
  },
  {
   "cell_type": "code",
   "execution_count": null,
   "id": "6d9e4f17",
   "metadata": {},
   "outputs": [],
   "source": [
    "\n",
    "#setting the plot size \n",
    "sns.set(rc = {'figure.figsize':(13,6)})\n",
    "Acquired_market = startup.loc[startup['status'] == 'acquired']\n",
    "Acquired_market_plot = sns.countplot(x='market' , palette=\"mako\" , data= Acquired_market ,order=pd.value_counts(Acquired_market['market']).iloc[:10].index)\n",
    "Acquired_market_plot.tick_params(axis='x', rotation=90 , labelsize=15)\n",
    "Acquired_market_plot.set_title('Top 10 Acquired Startups Markets' , fontsize=20 )\n"
   ]
  },
  {
   "cell_type": "markdown",
   "id": "625aca49",
   "metadata": {},
   "source": [
    "### Visualizing Top 10 markets with closed startups"
   ]
  },
  {
   "cell_type": "code",
   "execution_count": null,
   "id": "615035f4",
   "metadata": {},
   "outputs": [],
   "source": [
    "\n",
    "#setting the plot size \n",
    "sns.set(rc = {'figure.figsize':(13,6)})\n",
    "Closed_market = startup.loc[startup['status'] == 'closed']\n",
    "Closed_market_plot = sns.countplot(x='market' , palette=\"mako\" , data= Closed_market ,order=pd.value_counts(Closed_market['market']).iloc[:10].index)\n",
    "Closed_market_plot.tick_params(axis='x', rotation=90 , labelsize=15)\n",
    "Closed_market_plot.set_title('Top 10 Closed Startups Markets' , fontsize=20)\n"
   ]
  },
  {
   "cell_type": "markdown",
   "id": "33275f1b",
   "metadata": {},
   "source": [
    "### Visualizing Top 10 markets with Operating Startups"
   ]
  },
  {
   "cell_type": "code",
   "execution_count": null,
   "id": "630126ca",
   "metadata": {},
   "outputs": [],
   "source": [
    "\n",
    "#setting the plot size \n",
    "sns.set(rc = {'figure.figsize':(13,6)})\n",
    "operating_market = startup.loc[startup['status'] == 'operating']\n",
    "operating_market_plot = sns.countplot(x='market' , palette=\"mako\" , data= operating_market ,order=pd.value_counts(operating_market['market']).iloc[:10].index)\n",
    "operating_market_plot.tick_params(axis='x', rotation=90 , labelsize=15)\n",
    "operating_market_plot.set_title('Top 10 Operating Startups Markets', fontsize=20)\n"
   ]
  },
  {
   "cell_type": "markdown",
   "id": "4b987002",
   "metadata": {},
   "source": [
    "### Funding Rounds For Operating startups"
   ]
  },
  {
   "cell_type": "code",
   "execution_count": null,
   "id": "079c90f6",
   "metadata": {},
   "outputs": [],
   "source": [
    "sns.set(rc = {'figure.figsize':(13,6)})\n",
    "operating_funding_rounds = startup.loc[startup['status'] == 'operating']\n",
    "operating_funding_rounds_plot = sns.countplot(x='funding_rounds' , palette=\"mako\" , data= operating_funding_rounds ,order=pd.value_counts(operating_funding_rounds['funding_rounds']).iloc[:10].index)\n",
    "operating_funding_rounds_plot.tick_params(axis='x', rotation=90 , labelsize=15)\n",
    "operating_funding_rounds_plot.set_title('Funding Rounds For Operating startups' , fontsize=20)\n"
   ]
  },
  {
   "cell_type": "markdown",
   "id": "a71b3403",
   "metadata": {},
   "source": [
    "### Funding Rounds For closed startups"
   ]
  },
  {
   "cell_type": "code",
   "execution_count": null,
   "id": "560ec5cc",
   "metadata": {},
   "outputs": [],
   "source": [
    "sns.set(rc = {'figure.figsize':(13,6)})\n",
    "closed_funding_rounds = startup.loc[startup['status'] == 'closed']\n",
    "closed_funding_rounds_plot = sns.countplot(x='funding_rounds' , palette=\"mako\" , data= closed_funding_rounds ,order=pd.value_counts(closed_funding_rounds['funding_rounds']).iloc[:10].index)\n",
    "closed_funding_rounds_plot.tick_params(axis='x', rotation=90 , labelsize=15)\n",
    "closed_funding_rounds_plot.set_title('Funding Rounds For Closed startups', fontsize=20)"
   ]
  },
  {
   "cell_type": "code",
   "execution_count": null,
   "id": "f527d65b",
   "metadata": {},
   "outputs": [],
   "source": [
    "sns.set(rc = {'figure.figsize':(13,6)})\n",
    "acquired_funding_rounds = startup.loc[startup['status'] == 'acquired']\n",
    "acquired_funding_rounds_plot = sns.countplot(x='funding_rounds' , palette=\"mako\" , data= acquired_funding_rounds ,order=pd.value_counts(acquired_funding_rounds['funding_rounds']).iloc[:10].index)\n",
    "acquired_funding_rounds_plot.tick_params(axis='x', rotation=90 , labelsize=15)\n",
    "acquired_funding_rounds_plot.set_title('Funding Rounds For Acquired Startups' , fontsize=20)"
   ]
  },
  {
   "cell_type": "markdown",
   "id": "492fc180",
   "metadata": {},
   "source": [
    "### Startup Status Count "
   ]
  },
  {
   "cell_type": "code",
   "execution_count": 3,
   "id": "02715a00",
   "metadata": {},
   "outputs": [
    {
     "data": {
      "text/plain": [
       "Text(0.5, 1.0, 'Startup Status')"
      ]
     },
     "execution_count": 3,
     "metadata": {},
     "output_type": "execute_result"
    },
    {
     "data": {
      "image/png": "[encoded data removed]",
      "text/plain": [
       "<Figure size 576x396 with 1 Axes>"
      ]
     },
     "metadata": {},
     "output_type": "display_data"
    }
   ],
   "source": [
    "Status_count = sns.countplot(x=\"status\", data=startup , palette=\"mako\")\n",
    "Status_count.tick_params(axis='x', rotation=90 , labelsize=15)\n",
    "Status_count.set_title('Startup Status' , fontsize=20)"
   ]
  },
  {
   "cell_type": "markdown",
   "id": "aea8fab9",
   "metadata": {},
   "source": [
    "### the period between the founding year and first funding"
   ]
  },
  {
   "cell_type": "code",
   "execution_count": null,
   "id": "7c060c52",
   "metadata": {},
   "outputs": [],
   "source": [
    "startup['first_funding_year'] = startup['first_funding_at'].apply(lambda x: x.year)\n",
    "startup['last_funding_year'] = startup['last_funding_at'].apply(lambda x: x.year)\n",
    "startup = startup[pd.notnull(startup['first_funding_year'])]\n",
    "startup = startup[pd.notnull(startup['last_funding_year'])]\n",
    "startup['difference'] = startup['first_funding_year'] - startup['founded_year'] \n",
    "\n",
    "count_1_3years = ((1 < startup['difference']) & (startup['difference'] <= 3)).sum()\n",
    "count_3_7years = ((3 < startup['difference']) & (startup['difference'] <= 7)).sum()\n",
    "count_8_15years = ((8 <= startup['difference']) & (startup['difference'] <= 15)).sum()\n",
    "count_15years = ( (startup['difference'] > 15)).sum()\n",
    "\n",
    "Count_difference_years = [ ['1 to 3 years',count_1_3years] , ['4 to 7 years' , count_3_7years] , ['8 to 15 years' , count_8_15years] , ['more than 15 years' , count_15years] ]\n",
    "Count_difference_years = pd.DataFrame(Count_difference_years, columns = ['Range','Difference'])\n",
    "\n",
    "sns.set(rc = {'figure.figsize':(13,6)})\n",
    "count_barplot =sns.barplot(x=\"Range\", y=\"Difference\", data=Count_difference_years , palette=\"mako\" )\n",
    "count_barplot.set_title('the period between the founding year and first funding')"
   ]
  },
  {
   "cell_type": "markdown",
   "id": "4cd7e89d",
   "metadata": {},
   "source": [
    " ---------------------------------------------------------------------------------------------------------------------------"
   ]
  },
  {
   "cell_type": "markdown",
   "id": "98c3356e",
   "metadata": {},
   "source": [
    "ReOrdering the columns "
   ]
  },
  {
   "cell_type": "code",
   "execution_count": null,
   "id": "4d01134b",
   "metadata": {},
   "outputs": [],
   "source": [
    "startup = startup[['permalink', 'name', 'homepage_url', 'category_list', 'market',\n",
    "       'funding_total_usd', 'country_code', 'state_code', 'region', 'city',\n",
    "       'funding_rounds', 'founded_at', 'founded_month', 'founded_quarter',\n",
    "       'founded_year', 'first_funding_at', 'last_funding_at', 'seed',\n",
    "       'venture', 'equity_crowdfunding', 'undisclosed', 'convertible_note',\n",
    "       'debt_financing', 'angel', 'grant', 'private_equity', 'post_ipo_equity',\n",
    "       'post_ipo_debt', 'secondary_market', 'product_crowdfunding', 'round_A',\n",
    "       'round_B', 'round_C', 'round_D', 'round_E', 'round_F', 'round_G',\n",
    "       'round_H', 'first_funding_year', 'last_funding_year',\n",
    "       'difference' , 'status']]"
   ]
  },
  {
   "cell_type": "markdown",
   "id": "76f87ac3",
   "metadata": {},
   "source": [
    "# 3- Dealing with imbalanced classes"
   ]
  },
  {
   "cell_type": "markdown",
   "id": "5b97898c",
   "metadata": {},
   "source": [
    "### Dropping irrelveant columns "
   ]
  },
  {
   "cell_type": "code",
   "execution_count": null,
   "id": "9bb08f7f",
   "metadata": {},
   "outputs": [],
   "source": [
    "## permalink and homepage_url irrelveant columns \n",
    "## market can replace category list column\n",
    "#drop founded month , year , quarter since founded_at column contains the whole data\n",
    "## drop the state_code , region , city as keep only the country code \n",
    "startup.drop(['permalink', 'homepage_url' , 'category_list' , 'founded_month','founded_quarter','founded_at' , 'state_code' , 'region' , 'city'\n",
    "             , 'last_funding_at' , 'first_funding_at'],\n",
    "             axis='columns',inplace=True) "
   ]
  },
  {
   "cell_type": "code",
   "execution_count": null,
   "id": "a715b15d",
   "metadata": {},
   "outputs": [],
   "source": [
    "#checking null values to esnure that proper handling was done \n",
    "startup.isnull().sum(axis = 0)"
   ]
  },
  {
   "cell_type": "markdown",
   "id": "22944e54",
   "metadata": {},
   "source": [
    "### Encoding all columns\n",
    "for better classifcation\n",
    "LabelEncoder was used instead of one hot encoding due to the high number of unique values.\n",
    "if one hot encoding was used it will result in a high number of features "
   ]
  },
  {
   "cell_type": "code",
   "execution_count": null,
   "id": "54f4439b",
   "metadata": {},
   "outputs": [],
   "source": [
    "#encoding all categorical columns\n",
    "for column in startup[['name' , 'market' , 'country_code'  ]]:\n",
    " startup[column] = LabelEncoder().fit_transform(startup[column])\n"
   ]
  },
  {
   "cell_type": "code",
   "execution_count": null,
   "id": "6b987807",
   "metadata": {},
   "outputs": [],
   "source": [
    "#encoding the target feature and checking the labels for each class \n",
    "le = LabelEncoder()\n",
    "startup['status']=le.fit_transform(startup['status'])\n",
    "\n",
    "#checks the labels mapping\n",
    "labels_dict = {index: value for index, value in enumerate(le.classes_)}\n",
    "print(labels_dict)\n",
    "\n"
   ]
  },
  {
   "cell_type": "markdown",
   "id": "80737211",
   "metadata": {},
   "source": [
    "### Split the data"
   ]
  },
  {
   "cell_type": "code",
   "execution_count": null,
   "id": "21645057",
   "metadata": {},
   "outputs": [],
   "source": [
    "# split y and x \n",
    "startup_data = startup.values\n",
    "X, y = startup_data[:, :-1], startup_data[:, -1]\n",
    "y=y.astype('int')"
   ]
  },
  {
   "cell_type": "code",
   "execution_count": null,
   "id": "3d427e10",
   "metadata": {},
   "outputs": [],
   "source": [
    "## Count of each class rows \n",
    "counter = Counter(y)\n",
    "for k,v in counter.items():\n",
    "\tper = v / len(y) * 100\n",
    "\tprint('Class=%d, n=%d (%.3f%%)' % (k, v, per))\n",
    "# plot the distribution\n",
    "pyplot.bar(counter.keys(), counter.values())\n",
    "pyplot.show()"
   ]
  },
  {
   "cell_type": "markdown",
   "id": "e5d2fbc0",
   "metadata": {},
   "source": [
    "### Use Synthetic Minority Oversampling Technique to handle the imbalanced data"
   ]
  },
  {
   "cell_type": "code",
   "execution_count": null,
   "id": "858c9bbf",
   "metadata": {},
   "outputs": [],
   "source": [
    "oversample = SMOTE()\n",
    "X, y = oversample.fit_resample(X, y)"
   ]
  },
  {
   "cell_type": "markdown",
   "id": "5a809cd9",
   "metadata": {},
   "source": [
    "As it can be seen from the plot the classes are equaly distributed "
   ]
  },
  {
   "cell_type": "code",
   "execution_count": null,
   "id": "2beb2da1",
   "metadata": {},
   "outputs": [],
   "source": [
    "## Count of each class rows \n",
    "counter = Counter(y)\n",
    "for k,v in counter.items():\n",
    "\tper = v / len(y) * 100\n",
    "\tprint('Class=%d, n=%d (%.3f%%)' % (k, v, per))\n",
    "# plot the distribution\n",
    "pyplot.bar(counter.keys(), counter.values())\n",
    "pyplot.show()"
   ]
  },
  {
   "cell_type": "markdown",
   "id": "c8d165b2",
   "metadata": {},
   "source": [
    "# 4- Classification "
   ]
  },
  {
   "cell_type": "markdown",
   "id": "e3e42491",
   "metadata": {},
   "source": [
    "## Random Forest"
   ]
  },
  {
   "cell_type": "code",
   "execution_count": null,
   "id": "d6aec5af",
   "metadata": {},
   "outputs": [],
   "source": [
    "#Split the data into training and testing \n",
    "X_train, X_test, y_train, y_test = train_test_split(X, y, test_size=0.2,random_state=109)\n",
    "\n",
    "\n",
    "#fitting the model \n",
    "rf = RandomForestClassifier()\n",
    "rf.fit(X_train, y_train)\n"
   ]
  },
  {
   "cell_type": "markdown",
   "id": "c89d02f7",
   "metadata": {},
   "source": [
    "### using k-fold to evaluate the model"
   ]
  },
  {
   "cell_type": "code",
   "execution_count": null,
   "id": "44853fdb",
   "metadata": {},
   "outputs": [],
   "source": [
    "\n",
    "cv = RepeatedStratifiedKFold(n_splits=10, n_repeats=3, random_state=1)\n",
    "scores = cross_val_score(rf, X_train, y_train, scoring='accuracy', cv=cv, n_jobs=-1, error_score='raise')\n",
    "print('Accuracy: %.3f (%.3f)' % (mean(scores), std(scores)))\n",
    "\n"
   ]
  },
  {
   "cell_type": "markdown",
   "id": "3d9cca12",
   "metadata": {},
   "source": [
    "### Confusion matrix "
   ]
  },
  {
   "cell_type": "code",
   "execution_count": null,
   "id": "ae0644ee",
   "metadata": {},
   "outputs": [],
   "source": [
    "#plot the confusion matrix \n",
    "plot_confusion_matrix(rf, X_test, y_test , cmap = 'Blues') "
   ]
  },
  {
   "cell_type": "markdown",
   "id": "431d5300",
   "metadata": {},
   "source": [
    "### Evaluate the model Using the test data"
   ]
  },
  {
   "cell_type": "code",
   "execution_count": null,
   "id": "13dd4de5",
   "metadata": {},
   "outputs": [],
   "source": [
    "#evaluate the testing data\n",
    "prediction = rf.predict(X_test)\n",
    "print ('Accuracy:', accuracy_score(y_test, prediction))"
   ]
  },
  {
   "cell_type": "markdown",
   "id": "7ec10c9d",
   "metadata": {},
   "source": [
    "### Identify the important features "
   ]
  },
  {
   "cell_type": "code",
   "execution_count": null,
   "id": "72116040",
   "metadata": {},
   "outputs": [],
   "source": [
    "#Find the important features \n",
    "startup_col = startup.drop(columns=['status'])\n",
    "feature_names = [i for i in startup.columns if startup[i].dtype in [np.int64]]\n",
    "perm = PermutationImportance(rf, random_state=1).fit(X_test, y_test)\n",
    "eli5.show_weights(perm, feature_names = startup_col.keys().tolist())"
   ]
  },
  {
   "cell_type": "markdown",
   "id": "4c5c8342",
   "metadata": {},
   "source": [
    "### Precision , Recall and F1 for each class"
   ]
  },
  {
   "cell_type": "code",
   "execution_count": null,
   "id": "a5982aa0",
   "metadata": {},
   "outputs": [],
   "source": [
    "\n",
    "classes = [0,1,2]\n",
    "visualizer = ClassificationReport(rf, classes=classes, support=True)\n",
    "visualizer.fit(X_train, y_train)        # Fit the visualizer and the model\n",
    "visualizer.score(X_test, y_test)        # Evaluate the model on the test data\n",
    "visualizer.show()"
   ]
  },
  {
   "cell_type": "code",
   "execution_count": null,
   "id": "7e0e66f6",
   "metadata": {},
   "outputs": [],
   "source": [
    " from sklearn.metrics import classification_report\n",
    "print(classification_report(y_test,prediction)) "
   ]
  },
  {
   "cell_type": "markdown",
   "id": "14847abb",
   "metadata": {},
   "source": [
    "## Tuning the model"
   ]
  },
  {
   "cell_type": "code",
   "execution_count": null,
   "id": "37cc2a07",
   "metadata": {},
   "outputs": [],
   "source": [
    "from sklearn.model_selection import GridSearchCV\n",
    "X_train, X_test, y_train, y_test = train_test_split(X, y, test_size=0.2,random_state=109)\n",
    "\n",
    "scaler = StandardScaler()\n",
    "scaled_X_train = scaler.fit_transform(X_train)\n",
    "scaled_X_test = scaler.fit_transform(X_test)\n",
    "\n",
    "model_params = {\n",
    "    'n_estimators': [500, 1000],\n",
    "    'max_features': ['sqrt', 0.25, 0.5],\n",
    "    'max_depth': [25]\n",
    "}\n",
    "\n",
    "rf_model = RandomForestClassifier(random_state=1)\n",
    "clf = GridSearchCV(rf_model, model_params, cv=5)\n",
    "model = clf.fit(scaled_X_train, y_train)\n",
    "\n",
    "from pprint import pprint\n",
    "pprint(model.best_estimator_.get_params())\n"
   ]
  },
  {
   "cell_type": "code",
   "execution_count": null,
   "id": "45c02f45",
   "metadata": {},
   "outputs": [],
   "source": [
    " "
   ]
  }
 ],
 "metadata": {
  "kernelspec": {
   "display_name": "Python 3",
   "language": "python",
   "name": "python3"
  },
  "language_info": {
   "codemirror_mode": {
    "name": "ipython",
    "version": 3
   },
   "file_extension": ".py",
   "mimetype": "text/x-python",
   "name": "python",
   "nbconvert_exporter": "python",
   "pygments_lexer": "ipython3",
   "version": "3.8.8"
  }
 },
 "nbformat": 4,
 "nbformat_minor": 5
}
